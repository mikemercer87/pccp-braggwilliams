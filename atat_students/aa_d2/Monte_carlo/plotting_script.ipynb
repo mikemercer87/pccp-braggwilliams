{
 "cells": [
  {
   "cell_type": "code",
   "execution_count": 10,
   "metadata": {},
   "outputs": [
    {
     "data": {
      "image/png": "[encoded data removed]",
      "text/plain": [
       "<Figure size 432x288 with 1 Axes>"
      ]
     },
     "metadata": {
      "needs_background": "light"
     },
     "output_type": "display_data"
    }
   ],
   "source": [
    "import pandas as pd\n",
    "import matplotlib.pyplot as plt\n",
    "\n",
    "#df0=pd.read_csv('abs_mu_-1,0_1,0_0,005.out',names=['T','mu','E-mu*x','x','phi','E2','x2','Elte-mu*x_lte','x_lte','phi_lte','E_mf-mu*x_mf','x_mf','phi_mf','E_hte-me*x_hte','x_hte','phi_hte','lro','corr'],usecols=[1,3],sep='\\t')\n",
    "\n",
    "def read_file(index):\n",
    "    df = pd.read_csv('abs_-0,3_0,2_er%d.out' % index,names=['mu','x','varE','varx'],usecols=[1,3,5,6],sep='\\t')\n",
    "    return(df)\n",
    "\n",
    "#df1=pd.read_csv('mu-1,0_er13_gs1.out',names=['T','mu','E-mu*x','x','phi','E2','x2','Elte-mu*x_lte','x_lte','phi_lte','E_mf-mu*x_mf','x_mf','phi_mf','E_hte-me*x_hte','x_hte','phi_hte','lro','corr'],sep='\\t')\n",
    "#df2=pd.read_csv('mu-1,0_er13_gs2.out',names=['T','mu','E-mu*x','x','phi','E2','x2','Elte-mu*x_lte','x_lte','phi_lte','E_mf-mu*x_mf','x_mf','phi_mf','E_hte-me*x_hte','x_hte','phi_hte','lro','corr'],sep='\\t')\n",
    "# print(df0['x'].iloc[0:5])\n",
    "\n",
    "# all_labels = [13,15,17,19,21,23,25,27,29,31,33,36]\n",
    "# all_labels = [21,23,25,27,29,31,33,36]\n",
    "all_labels = [29,31,33,36]\n",
    "all_dfs = [read_file(index) for index in all_labels]\n",
    "odd_labels = []\n",
    "even_labels = []\n",
    "label_dict = {}\n",
    "df_dict = {label : df for label,df in zip(all_labels,all_dfs)}\n",
    "\n",
    "for n,label in enumerate(all_labels):\n",
    "    if label < 36:\n",
    "        size = (label+3) / 2\n",
    "    else:\n",
    "        size = (label+4) / 2\n",
    "    if size % 2 == 0:\n",
    "        even_labels.append(label)\n",
    "    else:\n",
    "        odd_labels.append(label)\n",
    "    label_dict[label] = size\n",
    "    \n",
    "\n",
    "for label,df in df_dict.items():\n",
    "    df['x_real'] = 0.5*df['x'] + 0.5\n",
    "    df['mu_realx'] = df['mu'] - 0.12\n",
    "    size = str(int(label_dict[label]))\n",
    "    if label in even_labels:\n",
    "        plt.plot(df['x_real'],-df['mu_realx'],linestyle='--',marker='o',label=size+'x'+size+'x'+size,markersize=3)\n",
    "\n",
    "plt.xlabel('x in Li$_{x}$C$_{6}$')\n",
    "plt.ylabel('-mu / eV per x')\n",
    "plt.legend()\n",
    "plt.show()\n"
   ]
  },
  {
   "cell_type": "code",
   "execution_count": null,
   "metadata": {},
   "outputs": [],
   "source": []
  },
  {
   "cell_type": "code",
   "execution_count": null,
   "metadata": {},
   "outputs": [],
   "source": []
  },
  {
   "cell_type": "code",
   "execution_count": null,
   "metadata": {},
   "outputs": [],
   "source": []
  }
 ],
 "metadata": {
  "kernelspec": {
   "display_name": "Python 3",
   "language": "python",
   "name": "python3"
  },
  "language_info": {
   "codemirror_mode": {
    "name": "ipython",
    "version": 3
   },
   "file_extension": ".py",
   "mimetype": "text/x-python",
   "name": "python",
   "nbconvert_exporter": "python",
   "pygments_lexer": "ipython3",
   "version": "3.7.6"
  }
 },
 "nbformat": 4,
 "nbformat_minor": 4
}
